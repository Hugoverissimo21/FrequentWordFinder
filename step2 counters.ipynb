{
 "cells": [
  {
   "cell_type": "markdown",
   "metadata": {},
   "source": [
    "Fixed probability counter : 1 / 16 : aula 09\n",
    "\n",
    "Space-Saving Count : aula 11\n",
    "\n",
    "- https://www.vldb.org/pvldb/vol15/p1215-zhao.pdf\n",
    "\n",
    "- All items whose true count is > n / k are stored ! : n = total number of items, k = number of counters (k = 20 n chega)\n",
    "\n",
    "- Smallest count min cannot be larger than ε × n: IMPLICA AUMENTAR O K ?"
   ]
  },
  {
   "cell_type": "code",
   "execution_count": 49,
   "metadata": {},
   "outputs": [],
   "source": [
    "import random\n",
    "import pandas as pd\n",
    "import numpy as np"
   ]
  },
  {
   "cell_type": "code",
   "execution_count": 50,
   "metadata": {},
   "outputs": [],
   "source": [
    "class SpaceSavingCounter:\n",
    "    \"\"\"\n",
    "    A class to implement the Space-Saving algorithm for approximate counting of elements.\n",
    "\n",
    "    Attributes:\n",
    "    -----------\n",
    "    k : int\n",
    "        The maximum number of elements to keep track of.\n",
    "    table : dict\n",
    "        A dictionary to store elements and their approximate counts.\n",
    "\n",
    "    Methods:\n",
    "    --------\n",
    "    __init__(k):\n",
    "        Initializes the SpaceSavingCounter with a specified maximum number of elements.\n",
    "    \n",
    "    process(element):\n",
    "        Processes an element by either incrementing its count if it exists in the table,\n",
    "        adding it to the table if there is space, or evicting the element with the smallest\n",
    "        count and inserting the new element with an incremented count.\n",
    "    \n",
    "    get_counts():\n",
    "        Returns the current table of elements and their approximate counts.\n",
    "    \"\"\"\n",
    "    def __init__(self, k):\n",
    "        self.k = k\n",
    "        self.table = {}  \n",
    "\n",
    "    def process(self, element):\n",
    "        # If element is already in the table, increment its count\n",
    "        if element in self.table:\n",
    "            self.table[element] += 1\n",
    "        else:\n",
    "            # If there is space in the table, add the element with count 1\n",
    "            if len(self.table) < self.k:\n",
    "                self.table[element] = 1\n",
    "            else:\n",
    "                # If the table is full, find the element with the smallest count\n",
    "                min_element = min(self.table, key=self.table.get)\n",
    "                min_count = self.table[min_element]\n",
    "                # Evict the element with the smallest count and insert the new element\n",
    "                del self.table[min_element]  # Remove the element with the smallest count\n",
    "                self.table[element] = min_count + 1  # Insert the new element with incremented count\n",
    "\n",
    "    def get_counts(self):\n",
    "        return self.table"
   ]
  },
  {
   "cell_type": "code",
   "execution_count": 51,
   "metadata": {},
   "outputs": [],
   "source": [
    "def count_words(book, use_exact=True, use_approximate=True, use_space_saving=True):\n",
    "    with open(book, \"r\") as f:\n",
    "        text = f.read()\n",
    "    words = text.split()\n",
    "\n",
    "    exact_counter = {}\n",
    "    approximate_counter = {}\n",
    "    space_saving5 = SpaceSavingCounter(5)\n",
    "    space_saving10 = SpaceSavingCounter(10)\n",
    "    space_saving15 = SpaceSavingCounter(82)\n",
    "    for word in words:\n",
    "\n",
    "        if use_exact:\n",
    "            # exact counter\n",
    "            if word in exact_counter:\n",
    "                exact_counter[word] += 1\n",
    "            else:\n",
    "                exact_counter[word] = 1\n",
    "\n",
    "        if use_approximate:\n",
    "            # approximate counter with 1/16 probability\n",
    "            if random.random() < 1/16:\n",
    "                if word in approximate_counter:\n",
    "                    approximate_counter[word] += 1\n",
    "                else:\n",
    "                    approximate_counter[word] = 1\n",
    "            else:\n",
    "                pass\n",
    "\n",
    "        if use_space_saving:\n",
    "            # data stream: Space-Saving Count\n",
    "            space_saving5.process(word)\n",
    "            space_saving10.process(word)\n",
    "            space_saving15.process(word)\n",
    "        \n",
    "    exact_counter = {k: v for k, v in sorted(exact_counter.items(), key=lambda item: item[1], reverse=True)}\n",
    "    approximate_counter = {k: v*16 for k, v in sorted(approximate_counter.items(), key=lambda item: item[1], reverse=True)}\n",
    "    return (exact_counter,\n",
    "            approximate_counter,\n",
    "            space_saving5.get_counts(),\n",
    "            space_saving10.get_counts(),\n",
    "            space_saving15.get_counts())"
   ]
  },
  {
   "cell_type": "code",
   "execution_count": 52,
   "metadata": {},
   "outputs": [],
   "source": [
    "#exactEN, approximateEN, ss5, ss10, ss15 = count_words(\"books/pinocchio_en.txt\", use_exact=True, use_approximate=True, use_space_saving=True)\n",
    "#exactIT, approximateIT, ss5, ss10, ss15 = count_words(\"books/pinocchio_it.txt\", use_exact=True, use_approximate=True, use_space_saving=True)\n",
    "#exactFI, approximateFI, ss5, ss10, ss15 = count_words(\"books/pinocchio_fi.txt\", use_exact=True, use_approximate=True, use_space_saving=True)"
   ]
  },
  {
   "cell_type": "markdown",
   "metadata": {},
   "source": [
    "exact counters"
   ]
  },
  {
   "cell_type": "code",
   "execution_count": 53,
   "metadata": {},
   "outputs": [],
   "source": [
    "if False:\n",
    "    df_exact = {(\"EN\", \"word\"): [],\n",
    "                (\"EN\", \"count\"): [],\n",
    "                (\"IT\", \"word\"): [],\n",
    "                (\"IT\", \"count\"): [],\n",
    "                (\"FI\", \"word\"): [],\n",
    "                (\"FI\", \"count\"): []}\n",
    "\n",
    "    for k, v in exactEN.items():\n",
    "        df_exact[(\"EN\", \"word\")].append(k)\n",
    "        df_exact[(\"EN\", \"count\")].append(int(v))\n",
    "\n",
    "    for k, v in exactIT.items():\n",
    "        df_exact[(\"IT\", \"word\")].append(k)\n",
    "        df_exact[(\"IT\", \"count\")].append(int(v))\n",
    "\n",
    "    for k, v in exactFI.items():\n",
    "        df_exact[(\"FI\", \"word\")].append(k)\n",
    "        df_exact[(\"FI\", \"count\")].append(int(v))\n",
    "\n",
    "    total_rows = max(len(df_exact[(\"EN\", \"word\")]), len(df_exact[(\"IT\", \"word\")]), len(df_exact[(\"FI\", \"word\")]))\n",
    "    for i in range(total_rows):\n",
    "        if i >= len(df_exact[(\"EN\", \"word\")]):\n",
    "            df_exact[(\"EN\", \"word\")].append(np.nan)\n",
    "            df_exact[(\"EN\", \"count\")].append(np.nan)\n",
    "        if i >= len(df_exact[(\"IT\", \"word\")]):\n",
    "            df_exact[(\"IT\", \"word\")].append(np.nan)\n",
    "            df_exact[(\"IT\", \"count\")].append(np.nan)\n",
    "        if i >= len(df_exact[(\"FI\", \"word\")]):\n",
    "            df_exact[(\"FI\", \"word\")].append(np.nan)\n",
    "            df_exact[(\"FI\", \"count\")].append(np.nan)\n",
    "\n",
    "    df_exact = pd.DataFrame(df_exact)\n",
    "    df_exact.to_excel(\"results/exact_counts.xlsx\")\n",
    "    print(\"Exact counts saved to results/exact_counts.xlsx\")"
   ]
  },
  {
   "cell_type": "markdown",
   "metadata": {},
   "source": [
    "probabilistic counters"
   ]
  },
  {
   "cell_type": "code",
   "execution_count": 54,
   "metadata": {},
   "outputs": [],
   "source": [
    "if False:\n",
    "    df_prob = {}\n",
    "    for _ in range(20):\n",
    "        df_prob[(\"EN\", f\"word_{_}\")] = []\n",
    "        df_prob[(\"EN\", f\"count_{_}\")] = []\n",
    "        df_prob[(\"IT\", f\"word_{_}\")] = []\n",
    "        df_prob[(\"IT\", f\"count_{_}\")] = []\n",
    "        df_prob[(\"FI\", f\"word_{_}\")] = []\n",
    "        df_prob[(\"FI\", f\"count_{_}\")] = []\n",
    "\n",
    "        exactEN, approximateEN, ss5, ss10, ss15 = count_words(\"books/pinocchio_en.txt\", use_exact=False, use_approximate=True, use_space_saving=False)\n",
    "        exactIT, approximateIT, ss5, ss10, ss15 = count_words(\"books/pinocchio_it.txt\", use_exact=False, use_approximate=True, use_space_saving=False)\n",
    "        exactFI, approximateFI, ss5, ss10, ss15 = count_words(\"books/pinocchio_fi.txt\", use_exact=False, use_approximate=True, use_space_saving=False)\n",
    "\n",
    "        for k, v in approximateEN.items():\n",
    "            df_prob[(\"EN\", f\"word_{_}\")].append(k)\n",
    "            df_prob[(\"EN\", f\"count_{_}\")].append(int(v))\n",
    "        \n",
    "        for k, v in approximateIT.items():\n",
    "            df_prob[(\"IT\", f\"word_{_}\")].append(k)\n",
    "            df_prob[(\"IT\", f\"count_{_}\")].append(int(v))\n",
    "        \n",
    "        for k, v in approximateFI.items():\n",
    "            df_prob[(\"FI\", f\"word_{_}\")].append(k)\n",
    "            df_prob[(\"FI\", f\"count_{_}\")].append(int(v))\n",
    "    \n",
    "    total_rows = 0\n",
    "    for k in df_prob.keys():\n",
    "        total_rows = max(total_rows, len(df_prob[k]))\n",
    "    for k in df_prob.keys():\n",
    "        for i in range(total_rows):\n",
    "            if i >= len(df_prob[k]):\n",
    "                df_prob[k].append(np.nan)\n",
    "    df_prob = pd.DataFrame(df_prob)\n",
    "\n",
    "    order_h0 = [\"EN\", \"IT\", \"FI\"]\n",
    "    order_h1 = [(f\"word_{_}\", f\"count_{_}\") for _ in range(20)]\n",
    "    order = []\n",
    "    for h0 in order_h0:\n",
    "        for h1w, h1c in order_h1:\n",
    "            order.append((h0, h1w))\n",
    "            order.append((h0, h1c))\n",
    "    df_prob = df_prob[order]\n",
    "    df_prob.to_excel(\"results/approximate_counts.xlsx\")\n",
    "    print(\"Approximate counts saved to results/approximate_counts.xlsx\")"
   ]
  },
  {
   "cell_type": "markdown",
   "metadata": {},
   "source": [
    "space-saving counters"
   ]
  },
  {
   "cell_type": "code",
   "execution_count": 55,
   "metadata": {},
   "outputs": [
    {
     "data": {
      "text/plain": [
       "81.96650717703349"
      ]
     },
     "execution_count": 55,
     "metadata": {},
     "output_type": "execute_result"
    }
   ],
   "source": [
    "17131/209"
   ]
  },
  {
   "cell_type": "code",
   "execution_count": 60,
   "metadata": {},
   "outputs": [
    {
     "data": {
      "text/plain": [
       "{'pinocchio': 457,\n",
       " 'puppet': 209,\n",
       " 'say': 287,\n",
       " 'little': 253,\n",
       " 'donkey': 204,\n",
       " 'fish': 204,\n",
       " 'go': 206,\n",
       " 'poor': 206,\n",
       " 'snail': 207,\n",
       " 'fairy': 208,\n",
       " 'good': 208,\n",
       " 'new': 206,\n",
       " 'instead': 205,\n",
       " 'boy': 206,\n",
       " 'open': 204,\n",
       " 'purse': 204,\n",
       " 'blue': 204,\n",
       " 'hair': 204,\n",
       " 'dollar': 204,\n",
       " 'dear': 204,\n",
       " 'see': 204,\n",
       " 'look': 206,\n",
       " 'eye': 204,\n",
       " 'papa': 204,\n",
       " 'suddenly': 203,\n",
       " 'room': 203,\n",
       " 'old': 204,\n",
       " 'geppetto': 205,\n",
       " 'lively': 203,\n",
       " 'humor': 203,\n",
       " 'resume': 203,\n",
       " 'trade': 203,\n",
       " 'wood': 203,\n",
       " 'carving': 203,\n",
       " 'design': 203,\n",
       " 'rich': 203,\n",
       " 'beautiful': 203,\n",
       " 'frame': 203,\n",
       " 'leave': 203,\n",
       " 'flower': 203,\n",
       " 'head': 204,\n",
       " 'animal': 203,\n",
       " 'satisfy': 203,\n",
       " 'curiosity': 204,\n",
       " 'throw': 204,\n",
       " 'arm': 205,\n",
       " 'neck': 204,\n",
       " 'cover': 204,\n",
       " 'kiss': 204,\n",
       " 'sudden': 205,\n",
       " 'change': 205,\n",
       " 'account': 204,\n",
       " 'home': 204,\n",
       " 'answer': 205,\n",
       " 'behave': 205,\n",
       " 'badly': 204,\n",
       " 'turn': 205,\n",
       " 'leaf': 204,\n",
       " 'power': 204,\n",
       " 'bring': 204,\n",
       " 'contentment': 204,\n",
       " 'happiness': 204,\n",
       " 'family': 204,\n",
       " 'wooden': 204,\n",
       " 'hide': 204,\n",
       " 'point': 204,\n",
       " 'big': 204,\n",
       " 'lean': 204,\n",
       " 'chair': 204,\n",
       " 'dangle': 204,\n",
       " 'leg': 204,\n",
       " 'crossed': 204,\n",
       " 'bend': 204,\n",
       " 'miracle': 204,\n",
       " 'remain': 204,\n",
       " 'stand': 204,\n",
       " 'short': 204,\n",
       " 'time': 204,\n",
       " 'great': 204,\n",
       " 'complacency': 204,\n",
       " 'ridiculous': 204,\n",
       " 'glad': 204}"
      ]
     },
     "execution_count": 60,
     "metadata": {},
     "output_type": "execute_result"
    }
   ],
   "source": [
    "a, a, ss5EN, ss10EN, ss82EN = count_words(\"books/pinocchio_en.txt\", use_exact=False, use_approximate=False, use_space_saving=True)\n",
    "# Total number of words in the book: 17131\n",
    "\n",
    "ss82EN"
   ]
  },
  {
   "cell_type": "markdown",
   "metadata": {},
   "source": [
    "---"
   ]
  },
  {
   "cell_type": "code",
   "execution_count": 57,
   "metadata": {},
   "outputs": [
    {
     "ename": "NameError",
     "evalue": "name 'exactEN' is not defined",
     "output_type": "error",
     "traceback": [
      "\u001b[0;31m---------------------------------------------------------------------------\u001b[0m",
      "\u001b[0;31mNameError\u001b[0m                                 Traceback (most recent call last)",
      "Cell \u001b[0;32mIn[57], line 2\u001b[0m\n\u001b[1;32m      1\u001b[0m \u001b[38;5;28;01mimport\u001b[39;00m \u001b[38;5;21;01msys\u001b[39;00m\n\u001b[0;32m----> 2\u001b[0m size \u001b[38;5;241m=\u001b[39m sys\u001b[38;5;241m.\u001b[39mgetsizeof(\u001b[43mexactEN\u001b[49m)\n\u001b[1;32m      3\u001b[0m \u001b[38;5;28mprint\u001b[39m(\u001b[38;5;124mf\u001b[39m\u001b[38;5;124m\"\u001b[39m\u001b[38;5;124mMemory size of x: \u001b[39m\u001b[38;5;132;01m{\u001b[39;00msize\u001b[38;5;132;01m}\u001b[39;00m\u001b[38;5;124m bytes\u001b[39m\u001b[38;5;124m\"\u001b[39m)\n",
      "\u001b[0;31mNameError\u001b[0m: name 'exactEN' is not defined"
     ]
    }
   ],
   "source": [
    "import sys\n",
    "size = sys.getsizeof(exactEN)\n",
    "print(f\"Memory size of x: {size} bytes\")"
   ]
  },
  {
   "cell_type": "code",
   "execution_count": null,
   "metadata": {},
   "outputs": [],
   "source": []
  }
 ],
 "metadata": {
  "kernelspec": {
   "display_name": "AA",
   "language": "python",
   "name": "python3"
  },
  "language_info": {
   "codemirror_mode": {
    "name": "ipython",
    "version": 3
   },
   "file_extension": ".py",
   "mimetype": "text/x-python",
   "name": "python",
   "nbconvert_exporter": "python",
   "pygments_lexer": "ipython3",
   "version": "3.10.15"
  }
 },
 "nbformat": 4,
 "nbformat_minor": 2
}
