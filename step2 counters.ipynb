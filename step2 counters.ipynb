{
 "cells": [
  {
   "cell_type": "markdown",
   "metadata": {},
   "source": [
    "Fixed probability counter : 1 / 16 : aula 09\n",
    "\n",
    "Space-Saving Count : aula 11\n",
    "\n",
    "- https://www.vldb.org/pvldb/vol15/p1215-zhao.pdf\n",
    "\n",
    "- All items whose true count is > n / k are stored ! : n = total number of items, k = number of counters (k = 20 n chega)\n",
    "\n",
    "- Smallest count min cannot be larger than ε × n: IMPLICA AUMENTAR O K ? SIM!!!!"
   ]
  },
  {
   "cell_type": "code",
   "execution_count": 1,
   "metadata": {},
   "outputs": [],
   "source": [
    "import random\n",
    "import pandas as pd\n",
    "import numpy as np\n",
    "import matplotlib.pyplot as plt\n",
    "\n",
    "plt.rcParams.update({\n",
    "    \"text.usetex\": True,              # If you want to use LaTeX fonts in text\n",
    "    \"font.family\": \"serif\",           # IEEE uses Times New Roman-like fonts\n",
    "    \"font.size\": 12,                   # General font size for IEEE format\n",
    "    \"axes.labelsize\": 12,              # Axis labels font size\n",
    "    \"legend.fontsize\": 11,             # Legend font size\n",
    "    \"xtick.labelsize\": 11,             # X-axis tick labels font size\n",
    "    \"ytick.labelsize\": 11,             # Y-axis tick labels font size\n",
    "    \"figure.figsize\": (5, 5*0.8),\n",
    "    \"savefig.dpi\": 1200,               # DPI for high-quality PNG/JPEG\n",
    "})"
   ]
  },
  {
   "cell_type": "markdown",
   "metadata": {},
   "source": [
    "exact counters AND probabilistic counters"
   ]
  },
  {
   "cell_type": "code",
   "execution_count": 2,
   "metadata": {},
   "outputs": [],
   "source": [
    "def count_words(book, use_exact=True, use_approximate=True):\n",
    "    with open(book, \"r\") as f:\n",
    "        text = f.read()\n",
    "    words = text.split()\n",
    "\n",
    "    exact_counter = {}\n",
    "    approximate_counter = {}\n",
    "    for word in words:\n",
    "\n",
    "        if use_exact:\n",
    "            # exact counter\n",
    "            if word in exact_counter:\n",
    "                exact_counter[word] += 1\n",
    "            else:\n",
    "                exact_counter[word] = 1\n",
    "\n",
    "        if use_approximate:\n",
    "            # approximate counter with 1/16 probability\n",
    "            if random.random() < 1/16:\n",
    "                if word in approximate_counter:\n",
    "                    approximate_counter[word] += 1\n",
    "                else:\n",
    "                    approximate_counter[word] = 1\n",
    "            else:\n",
    "                pass\n",
    "        \n",
    "    exact_counter = {k: v for k, v in sorted(exact_counter.items(), key=lambda item: item[1], reverse=True)}\n",
    "    approximate_counter = {k: v*16 for k, v in sorted(approximate_counter.items(), key=lambda item: item[1], reverse=True)}\n",
    "    return (exact_counter,\n",
    "            approximate_counter)"
   ]
  },
  {
   "cell_type": "code",
   "execution_count": 3,
   "metadata": {},
   "outputs": [],
   "source": [
    "#exactEN, approximateEN = count_words(\"books/pinocchio_en.txt\", use_exact=True, use_approximate=True)\n",
    "#exactIT, approximateIT = count_words(\"books/pinocchio_it.txt\", use_exact=True, use_approximate=True)\n",
    "#exactFI, approximateFI = count_words(\"books/pinocchio_fi.txt\", use_exact=True, use_approximate=True)"
   ]
  },
  {
   "cell_type": "code",
   "execution_count": 4,
   "metadata": {},
   "outputs": [],
   "source": [
    "if False:\n",
    "    df_exact = {(\"EN\", \"word\"): [],\n",
    "                (\"EN\", \"count\"): [],\n",
    "                (\"IT\", \"word\"): [],\n",
    "                (\"IT\", \"count\"): [],\n",
    "                (\"FI\", \"word\"): [],\n",
    "                (\"FI\", \"count\"): []}\n",
    "\n",
    "    for k, v in exactEN.items():\n",
    "        df_exact[(\"EN\", \"word\")].append(k)\n",
    "        df_exact[(\"EN\", \"count\")].append(int(v))\n",
    "\n",
    "    for k, v in exactIT.items():\n",
    "        df_exact[(\"IT\", \"word\")].append(k)\n",
    "        df_exact[(\"IT\", \"count\")].append(int(v))\n",
    "\n",
    "    for k, v in exactFI.items():\n",
    "        df_exact[(\"FI\", \"word\")].append(k)\n",
    "        df_exact[(\"FI\", \"count\")].append(int(v))\n",
    "\n",
    "    total_rows = max(len(df_exact[(\"EN\", \"word\")]), len(df_exact[(\"IT\", \"word\")]), len(df_exact[(\"FI\", \"word\")]))\n",
    "    for i in range(total_rows):\n",
    "        if i >= len(df_exact[(\"EN\", \"word\")]):\n",
    "            df_exact[(\"EN\", \"word\")].append(np.nan)\n",
    "            df_exact[(\"EN\", \"count\")].append(np.nan)\n",
    "        if i >= len(df_exact[(\"IT\", \"word\")]):\n",
    "            df_exact[(\"IT\", \"word\")].append(np.nan)\n",
    "            df_exact[(\"IT\", \"count\")].append(np.nan)\n",
    "        if i >= len(df_exact[(\"FI\", \"word\")]):\n",
    "            df_exact[(\"FI\", \"word\")].append(np.nan)\n",
    "            df_exact[(\"FI\", \"count\")].append(np.nan)\n",
    "\n",
    "    df_exact = pd.DataFrame(df_exact)\n",
    "    #df_exact.to_excel(\"results/exact_counts.xlsx\")\n",
    "    print(\"Exact counts saved to results/exact_counts.xlsx\")"
   ]
  },
  {
   "cell_type": "code",
   "execution_count": 5,
   "metadata": {},
   "outputs": [],
   "source": [
    "if False:\n",
    "    df_prob = {}\n",
    "    for _ in range(20):\n",
    "        df_prob[(\"EN\", f\"word_{_}\")] = []\n",
    "        df_prob[(\"EN\", f\"count_{_}\")] = []\n",
    "        df_prob[(\"IT\", f\"word_{_}\")] = []\n",
    "        df_prob[(\"IT\", f\"count_{_}\")] = []\n",
    "        df_prob[(\"FI\", f\"word_{_}\")] = []\n",
    "        df_prob[(\"FI\", f\"count_{_}\")] = []\n",
    "\n",
    "        exactEN, approximateEN = count_words(\"books/pinocchio_en.txt\", use_exact=False, use_approximate=True)\n",
    "        exactIT, approximateIT = count_words(\"books/pinocchio_it.txt\", use_exact=False, use_approximate=True)\n",
    "        exactFI, approximateFI = count_words(\"books/pinocchio_fi.txt\", use_exact=False, use_approximate=True)\n",
    "\n",
    "        for k, v in approximateEN.items():\n",
    "            df_prob[(\"EN\", f\"word_{_}\")].append(k)\n",
    "            df_prob[(\"EN\", f\"count_{_}\")].append(int(v))\n",
    "        \n",
    "        for k, v in approximateIT.items():\n",
    "            df_prob[(\"IT\", f\"word_{_}\")].append(k)\n",
    "            df_prob[(\"IT\", f\"count_{_}\")].append(int(v))\n",
    "        \n",
    "        for k, v in approximateFI.items():\n",
    "            df_prob[(\"FI\", f\"word_{_}\")].append(k)\n",
    "            df_prob[(\"FI\", f\"count_{_}\")].append(int(v))\n",
    "    \n",
    "    total_rows = 0\n",
    "    for k in df_prob.keys():\n",
    "        total_rows = max(total_rows, len(df_prob[k]))\n",
    "    for k in df_prob.keys():\n",
    "        for i in range(total_rows):\n",
    "            if i >= len(df_prob[k]):\n",
    "                df_prob[k].append(np.nan)\n",
    "    df_prob = pd.DataFrame(df_prob)\n",
    "\n",
    "    order_h0 = [\"EN\", \"IT\", \"FI\"]\n",
    "    order_h1 = [(f\"word_{_}\", f\"count_{_}\") for _ in range(20)]\n",
    "    order = []\n",
    "    for h0 in order_h0:\n",
    "        for h1w, h1c in order_h1:\n",
    "            order.append((h0, h1w))\n",
    "            order.append((h0, h1c))\n",
    "    df_prob = df_prob[order]\n",
    "    #df_prob.to_excel(\"results/approximate_counts.xlsx\")\n",
    "    print(\"Approximate counts saved to results/approximate_counts.xlsx\")"
   ]
  },
  {
   "cell_type": "markdown",
   "metadata": {},
   "source": [
    "space-saving counters"
   ]
  },
  {
   "cell_type": "code",
   "execution_count": 6,
   "metadata": {},
   "outputs": [],
   "source": [
    "class SpaceSavingCounter:\n",
    "    \"\"\"\n",
    "    A class to implement the Space-Saving algorithm for approximate counting of elements.\n",
    "\n",
    "    Attributes:\n",
    "    -----------\n",
    "    k : int\n",
    "        The maximum number of elements to keep track of.\n",
    "    table : dict\n",
    "        A dictionary to store elements and their approximate counts.\n",
    "\n",
    "    Methods:\n",
    "    --------\n",
    "    __init__(k):\n",
    "        Initializes the SpaceSavingCounter with a specified maximum number of elements.\n",
    "    \n",
    "    process(element):\n",
    "        Processes an element by either incrementing its count if it exists in the table,\n",
    "        adding it to the table if there is space, or evicting the element with the smallest\n",
    "        count and inserting the new element with an incremented count.\n",
    "    \n",
    "    get_counts():\n",
    "        Returns the current table of elements and their approximate counts.\n",
    "    \"\"\"\n",
    "    def __init__(self, k):\n",
    "        self.k = k\n",
    "        self.table = {}  \n",
    "\n",
    "    def process(self, element):\n",
    "        # If element is already in the table, increment its count\n",
    "        if element in self.table:\n",
    "            self.table[element] += 1\n",
    "        else:\n",
    "            # If there is space in the table, add the element with count 1\n",
    "            if len(self.table) < self.k:\n",
    "                self.table[element] = 1\n",
    "            else:\n",
    "                # If the table is full, find the element with the smallest count\n",
    "                min_element = min(self.table, key=self.table.get)\n",
    "                min_count = self.table[min_element]\n",
    "                # Evict the element with the smallest count and insert the new element\n",
    "                del self.table[min_element]  # Remove the element with the smallest count\n",
    "                self.table[element] = min_count + 1  # Insert the new element with incremented count\n",
    "\n",
    "    def get_counts(self):\n",
    "        return self.table"
   ]
  },
  {
   "cell_type": "code",
   "execution_count": 7,
   "metadata": {},
   "outputs": [
    {
     "data": {
      "text/plain": [
       "342.62"
      ]
     },
     "execution_count": 7,
     "metadata": {},
     "output_type": "execute_result"
    }
   ],
   "source": [
    "17131/209\n",
    "\n",
    "17131/50"
   ]
  },
  {
   "cell_type": "code",
   "execution_count": 8,
   "metadata": {},
   "outputs": [],
   "source": [
    "def space_saving_onlyvalues(book, k):\n",
    "    with open(book, \"r\") as f:\n",
    "        text = f.read()\n",
    "    words = text.split()\n",
    "    n = len(words)\n",
    "\n",
    "    space_saving = SpaceSavingCounter(k)\n",
    "    for word in words:\n",
    "\n",
    "        # data stream: Space-Saving Count\n",
    "        space_saving.process(word)\n",
    "        \n",
    "    return (list(space_saving.get_counts().values()), n)"
   ]
  },
  {
   "cell_type": "code",
   "execution_count": 9,
   "metadata": {},
   "outputs": [
    {
     "data": {
      "text/plain": [
       "{165, 166, 167, 168, 169, 170, 171, 176, 181, 209, 240, 286, 457}"
      ]
     },
     "execution_count": 9,
     "metadata": {},
     "output_type": "execute_result"
    }
   ],
   "source": [
    "ss, n = space_saving_onlyvalues(\"books/pinocchio_en.txt\", 100) # 282 é o top2\n",
    "#4282.75\n",
    "\n",
    "set(ss)"
   ]
  },
  {
   "cell_type": "code",
   "execution_count": 10,
   "metadata": {},
   "outputs": [
    {
     "data": {
      "text/plain": [
       "171"
      ]
     },
     "execution_count": 10,
     "metadata": {},
     "output_type": "execute_result"
    }
   ],
   "source": [
    "n // 100"
   ]
  },
  {
   "cell_type": "markdown",
   "metadata": {},
   "source": [
    "fazer em % a qnt de k pq é normal ser maior e tal, mas meter o grafico a explicar, posso meter o k = 5 para mostrar os maus resultados e tal e dps meto o grafico e mostro a escolha e tudo mais bla bla\n",
    "\n",
    "mesmo q use tp k= 80, posso so meter top 10\n",
    "\n",
    "como quero top10, desenhar no grafico uma linha a partir da qual temos os top 10 e dizer qual é o primeiro ponto acima\n",
    "\n",
    "importante dizer q contagens significativas sao aquelas q nao esta tao proximas da media por causa da situacao do n/k\n"
   ]
  },
  {
   "cell_type": "code",
   "execution_count": null,
   "metadata": {},
   "outputs": [
    {
     "data": {
      "image/png": "[encoded data removed]",
      "text/plain": [
       "<Figure size 500x400 with 2 Axes>"
      ]
     },
     "metadata": {},
     "output_type": "display_data"
    }
   ],
   "source": [
    "# ver a que partir de k se comeca a ter precisao\n",
    "plot1_y = []\n",
    "ks = range(1, 133)\n",
    "\n",
    "for k in ks:\n",
    "    ss, n = space_saving_onlyvalues(\"books/pinocchio_en.txt\", k)\n",
    "    mas_contagens = 0\n",
    "    for s in ss:\n",
    "        if s in range(int(n/k * 0.95), int(n/k * 1.05)):\n",
    "            mas_contagens += 1\n",
    "    # plot1\n",
    "    plot1_y.append(len(ss) - mas_contagens)\n",
    "\n",
    "# Create the main plot\n",
    "fig, ax1 = plt.subplots()\n",
    "\n",
    "# Plot the primary scatter plot\n",
    "ax1.scatter(ks, plot1_y, color=\"blue\")\n",
    "ax1.set_xlabel(\"$k$\")\n",
    "ax1.set_ylabel(\"Número de palavras diferentes de n/k (aka contagens significativas)\")\n",
    "\n",
    "# Create a secondary x-axis\n",
    "NUMBER_OF_TICKS = 10\n",
    "ax2 = ax1.twiny()\n",
    "ax2.set_xlim(ax1.get_xlim())  # Align the second x-axis with the primary one\n",
    "ax2.set_xticks(ks[::NUMBER_OF_TICKS])  # Match the ticks to the primary axis\n",
    "ax2.set_xticklabels(np.round( np.array(ks)[::NUMBER_OF_TICKS] * 100 / n, 3 ))  # Label the secondary x-axis ticks\n",
    "ax2.set_xlabel(\"k / n para saber q \\% de n é k\")\n",
    "\n",
    "plt.tight_layout()\n",
    "plt.show() \n"
   ]
  },
  {
   "cell_type": "markdown",
   "metadata": {},
   "source": [
    "---"
   ]
  },
  {
   "cell_type": "markdown",
   "metadata": {},
   "source": [
    "usar este ou parecido para comparar os bytes, talvez ate possa usar os execel do results para isso"
   ]
  },
  {
   "cell_type": "code",
   "execution_count": 12,
   "metadata": {},
   "outputs": [
    {
     "ename": "NameError",
     "evalue": "name 'exactEN' is not defined",
     "output_type": "error",
     "traceback": [
      "\u001b[0;31m---------------------------------------------------------------------------\u001b[0m",
      "\u001b[0;31mNameError\u001b[0m                                 Traceback (most recent call last)",
      "Cell \u001b[0;32mIn[12], line 2\u001b[0m\n\u001b[1;32m      1\u001b[0m \u001b[38;5;28;01mimport\u001b[39;00m \u001b[38;5;21;01msys\u001b[39;00m\n\u001b[0;32m----> 2\u001b[0m size \u001b[38;5;241m=\u001b[39m sys\u001b[38;5;241m.\u001b[39mgetsizeof(\u001b[43mexactEN\u001b[49m)\n\u001b[1;32m      3\u001b[0m \u001b[38;5;28mprint\u001b[39m(\u001b[38;5;124mf\u001b[39m\u001b[38;5;124m\"\u001b[39m\u001b[38;5;124mMemory size of x: \u001b[39m\u001b[38;5;132;01m{\u001b[39;00msize\u001b[38;5;132;01m}\u001b[39;00m\u001b[38;5;124m bytes\u001b[39m\u001b[38;5;124m\"\u001b[39m)\n",
      "\u001b[0;31mNameError\u001b[0m: name 'exactEN' is not defined"
     ]
    }
   ],
   "source": [
    "import sys\n",
    "size = sys.getsizeof(exactEN)\n",
    "print(f\"Memory size of x: {size} bytes\")"
   ]
  },
  {
   "cell_type": "code",
   "execution_count": null,
   "metadata": {},
   "outputs": [],
   "source": []
  }
 ],
 "metadata": {
  "kernelspec": {
   "display_name": "AA",
   "language": "python",
   "name": "python3"
  },
  "language_info": {
   "codemirror_mode": {
    "name": "ipython",
    "version": 3
   },
   "file_extension": ".py",
   "mimetype": "text/x-python",
   "name": "python",
   "nbconvert_exporter": "python",
   "pygments_lexer": "ipython3",
   "version": "3.10.15"
  }
 },
 "nbformat": 4,
 "nbformat_minor": 2
}
