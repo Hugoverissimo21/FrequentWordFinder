{
 "cells": [
  {
   "cell_type": "markdown",
   "metadata": {},
   "source": [
    "textos do pinoquio, do site gutenberg, em tres idiomas: finlandes, ingles e italiano. acho eu\n",
    "\n",
    "foi usado o \" start\" e \" end\" para saber o inicio e o fim do texto\n",
    "\n",
    "foi usado o spacy para remover pontuações , stopwords, texto foi lowercased e tokenizado (lemma)."
   ]
  },
  {
   "cell_type": "code",
   "execution_count": 1,
   "metadata": {},
   "outputs": [],
   "source": [
    "start_marker = \"*** START OF THE PROJECT GUTENBERG\"\n",
    "end_marker = \"*** END OF THE PROJECT GUTENBERG\"\n",
    "\n",
    "def get_book(book):\n",
    "    \"\"\"\n",
    "    Extracts the main content of a book from a text file.\n",
    "    This function reads a text file, identifies the start and end markers of the main content,\n",
    "    and returns the content between these markers as a single string.\n",
    "    Args:\n",
    "        book (str): The path to the text file containing the book.\n",
    "    Returns:\n",
    "        str: The main content of the book as a single string.\n",
    "    \"\"\"\n",
    "    with open(book, \"r\", encoding=\"utf-8\") as file:\n",
    "        lines = file.readlines()\n",
    "\n",
    "    # Find the start and end of the main content\n",
    "    for i, line in enumerate(lines):\n",
    "        if start_marker in line:\n",
    "            start_index = i + 1\n",
    "        elif end_marker in line:\n",
    "            end_index = i\n",
    "            break\n",
    "\n",
    "    # Extract the main content\n",
    "    main_content = lines[start_index:end_index]\n",
    "    main_content = \"\".join(main_content).replace(\"\\n\", \" \")\n",
    "\n",
    "    return main_content"
   ]
  },
  {
   "cell_type": "code",
   "execution_count": 2,
   "metadata": {},
   "outputs": [
    {
     "name": "stdout",
     "output_type": "stream",
     "text": [
      "--- IT ---\n",
      "Total tokens: 21496\n",
      "--- FI ---\n",
      "Total tokens: 20002\n",
      "--- EN ---\n",
      "Total tokens: 19119\n"
     ]
    }
   ],
   "source": [
    "import spacy\n",
    "\n",
    "# Load language models\n",
    "nlp_en = spacy.load(\"en_core_web_sm\")\n",
    "nlp_it = spacy.load(\"it_core_news_sm\")\n",
    "nlp_fi = spacy.load(\"fi_core_news_sm\")\n",
    "\n",
    "# Import books\n",
    "books = {\n",
    "    \"it\": get_book(\"books/pg52484.txt\"),\n",
    "    \"fi\": get_book(\"books/pg53077.txt\"),\n",
    "    \"en\": get_book(\"books/pg16865.txt\")\n",
    "}\n",
    "\n",
    "# Process and clean each book\n",
    "for lang, text in books.items():\n",
    "    nlp = {\"en\": nlp_en, \"it\": nlp_it, \"fi\": nlp_fi}[lang]\n",
    "    doc = nlp(text)\n",
    "    \n",
    "    # Remove punctuation, convert to lowercase, remove stopwords, and extract lemmas\n",
    "    clean_tokens = [\n",
    "        token.lemma_.lower()\n",
    "        for token in doc\n",
    "        if not token.is_stop and not token.is_punct\n",
    "    ]\n",
    "\n",
    "    cleaned_book = \" \".join(clean_tokens)\n",
    "    with open(f\"books/pinocchio_{lang}.txt\", \"w\", encoding=\"utf-8\") as file:\n",
    "        file.write(cleaned_book)\n",
    "    \n",
    "    print(f\"--- {lang.upper()} ---\")\n",
    "    print(\"Total tokens:\", len(clean_tokens))\n"
   ]
  }
 ],
 "metadata": {
  "kernelspec": {
   "display_name": "AA",
   "language": "python",
   "name": "python3"
  },
  "language_info": {
   "codemirror_mode": {
    "name": "ipython",
    "version": 3
   },
   "file_extension": ".py",
   "mimetype": "text/x-python",
   "name": "python",
   "nbconvert_exporter": "python",
   "pygments_lexer": "ipython3",
   "version": "3.10.15"
  }
 },
 "nbformat": 4,
 "nbformat_minor": 2
}
