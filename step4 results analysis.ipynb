{
 "cells": [
  {
   "cell_type": "code",
   "execution_count": 6,
   "metadata": {},
   "outputs": [],
   "source": [
    "import pandas as pd\n",
    "import matplotlib.pyplot as plt\n",
    "import warnings\n",
    "warnings.filterwarnings(\"ignore\")\n",
    "\n",
    "\n",
    "plt.rcParams.update({\n",
    "    \"text.usetex\": True,              # If you want to use LaTeX fonts in text\n",
    "    \"font.family\": \"serif\",           # IEEE uses Times New Roman-like fonts\n",
    "    \"font.size\": 12,                   # General font size for IEEE format\n",
    "    \"axes.labelsize\": 12,              # Axis labels font size\n",
    "    \"legend.fontsize\": 11,             # Legend font size\n",
    "    \"xtick.labelsize\": 11,             # X-axis tick labels font size\n",
    "    \"ytick.labelsize\": 11,             # Y-axis tick labels font size\n",
    "    \"figure.figsize\": (5, 5*0.8),\n",
    "    \"savefig.dpi\": 1200,               # DPI for high-quality PNG/JPEG\n",
    "})\n",
    "\n",
    "def latex_table(df):\n",
    "    latex_table = df.to_latex(\n",
    "        index=False,\n",
    "        escape=False,\n",
    "        column_format='ll',  # Define column alignment\n",
    "        caption='CAPTION CAPTION',\n",
    "        label='table:LABEL_LABEL'\n",
    "    )\n",
    "\n",
    "    latex_table = latex_table.replace(\"\\\\begin{table}\", \"\\\\begin{table}[H]\\n\\\\centering\")\n",
    "\n",
    "    print(latex_table)\n",
    "\n",
    "colors_scatter = [\"#ff7f0e\", \"green\", \"#1f77b4\", \"red\"]\n",
    "colors_plot = [\"#ffbb78\", \"lightgreen\", \"#aec7e8\", \"#FFB6B6\"]"
   ]
  },
  {
   "cell_type": "markdown",
   "metadata": {},
   "source": [
    "---\n",
    "---\n",
    "---"
   ]
  },
  {
   "cell_type": "code",
   "execution_count": 10,
   "metadata": {},
   "outputs": [],
   "source": [
    "exact_counts = pd.read_excel(\"results/exact_counts.xlsx\", index_col=0, header=[0,1])\n",
    "\n",
    "approximate_counts = pd.read_excel(\"results/approximate_counts.xlsx\", index_col=0, header=[0,1])\n",
    "\n",
    "SS10_counts = pd.read_excel(\"results/SS10_counts.xlsx\", index_col=0, header=[0,1])\n",
    "SS70_counts = pd.read_excel(\"results/SS70_counts.xlsx\", index_col=0, header=[0,1])\n",
    "SS150_counts = pd.read_excel(\"results/SS150_counts.xlsx\", index_col=0, header=[0,1])"
   ]
  },
  {
   "cell_type": "code",
   "execution_count": 11,
   "metadata": {},
   "outputs": [],
   "source": [
    "# fazer erro\n",
    "# fazer memoria"
   ]
  },
  {
   "cell_type": "code",
   "execution_count": null,
   "metadata": {},
   "outputs": [],
   "source": []
  }
 ],
 "metadata": {
  "kernelspec": {
   "display_name": "AA",
   "language": "python",
   "name": "python3"
  },
  "language_info": {
   "codemirror_mode": {
    "name": "ipython",
    "version": 3
   },
   "file_extension": ".py",
   "mimetype": "text/x-python",
   "name": "python",
   "nbconvert_exporter": "python",
   "pygments_lexer": "ipython3",
   "version": "3.10.15"
  }
 },
 "nbformat": 4,
 "nbformat_minor": 2
}
